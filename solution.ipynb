{
 "metadata": {
  "language_info": {
   "codemirror_mode": {
    "name": "ipython",
    "version": 3
   },
   "file_extension": ".py",
   "mimetype": "text/x-python",
   "name": "python",
   "nbconvert_exporter": "python",
   "pygments_lexer": "ipython3",
   "version": "3.8.5-final"
  },
  "orig_nbformat": 2,
  "kernelspec": {
   "name": "python_defaultSpec_1598981454934",
   "display_name": "Python 3.8.5 64-bit"
  }
 },
 "nbformat": 4,
 "nbformat_minor": 2,
 "cells": [
  {
   "cell_type": "code",
   "execution_count": null,
   "metadata": {},
   "outputs": [],
   "source": [
    "#Problem 2"
   ]
  },
  {
   "cell_type": "code",
   "execution_count": 1,
   "metadata": {
    "tags": []
   },
   "outputs": [
    {
     "output_type": "stream",
     "name": "stdout",
     "text": "{'Randy': ['Input.txt', 'Output.txt'], 'Stan': ['Code.py']}\n"
    }
   ],
   "source": [
    "def group_by_owners(files):\n",
    "    output ={}\n",
    "    for f in files:\n",
    "        if files[f] not in output:\n",
    "            output[files[f]] = []\n",
    "        output[files[f]].append(f)\n",
    "    return output\n",
    "\n",
    "files = {'Input.txt': 'Randy',\n",
    "        'Code.py': 'Stan',\n",
    "        'Output.txt': 'Randy'}  \n",
    "\n",
    "print(group_by_owners(files))"
   ]
  },
  {
   "cell_type": "code",
   "execution_count": null,
   "metadata": {},
   "outputs": [],
   "source": [
    "#Problem 3"
   ]
  },
  {
   "cell_type": "code",
   "execution_count": 1,
   "metadata": {
    "tags": []
   },
   "outputs": [
    {
     "output_type": "stream",
     "name": "stdout",
     "text": "True\n"
    }
   ],
   "source": [
    "def route_exists(from_row, from_column, to_row, to_column, map_matrix):   \n",
    "    '''Write your code here'''\n",
    "    val1 = val2 = val3 = val4 = False\n",
    "    if( (from_row == to_row) and (from_column == to_column) ):\n",
    "        return True\n",
    "\n",
    "    if map_matrix[from_row][from_column] == False:\n",
    "        return False\n",
    "\n",
    "    if (from_row > to_row) or (from_row < 0):\n",
    "        return False\n",
    "\n",
    "    if (from_column > to_column) or (from_column < 0):\n",
    "        return False\n",
    "\n",
    "    if to_row>from_row :\n",
    "       val1 = route_exists(from_row+1, from_column, to_row, to_column, map_matrix)\n",
    "    \n",
    "    if from_row > to_row:\n",
    "        val2 = route_exists(from_row-1, from_column, to_row, to_column, map_matrix)\n",
    "\n",
    "    if to_column > from_column:\n",
    "        val3 = route_exists(from_row, from_column+1, to_row, to_column, map_matrix)\n",
    "\n",
    "    if from_column > to_column:\n",
    "        val4 = route_exists(from_row, from_column-1, to_row, to_column, map_matrix)\n",
    "\n",
    "    return val1 or val2 or val3 or val4\n",
    "\n",
    "map_matrix = [\n",
    "    [True, False, False],\n",
    "    [True, True, False],\n",
    "    [False, True, True]]\n",
    "\n",
    "print(route_exists(0, 0, 2, 2, map_matrix))"
   ]
  },
  {
   "cell_type": "code",
   "execution_count": 1,
   "metadata": {
    "tags": []
   },
   "outputs": [
    {
     "output_type": "stream",
     "name": "stdout",
     "text": "7\n13\n"
    }
   ],
   "source": [
    "#Problem 4\n",
    "\n",
    "class TrainComposition:\n",
    "    \n",
    "    def __init__(self):\n",
    "        '''Write your code here'''\n",
    "        self.wagon_list=[]\n",
    "        pass\n",
    "    \n",
    "    def attach_wagon_from_left(self, wagonId):\n",
    "        '''Write your code here'''\n",
    "        self.wagon_list.insert(0,wagonId)\n",
    "        pass\n",
    "    \n",
    "    def attach_wagon_from_right(self, wagonId):\n",
    "        '''Write your code here'''\n",
    "        self.wagon_list.append(wagonId)\n",
    "        pass\n",
    "\n",
    "    def detach_wagon_from_left(self):\n",
    "        '''Write your code here'''\n",
    "        if len(self.wagon_list) == 0:\n",
    "            return -1\n",
    "        return self.wagon_list.pop(0)\n",
    "    \n",
    "    def detach_wagon_from_right(self):\n",
    "        '''Write your code here'''\n",
    "        if len(self.wagon_list) == 0:\n",
    "            return -1\n",
    "        return self.wagon_list.pop(-1)\n",
    "\n",
    "\n",
    "    \n",
    "train = TrainComposition()\n",
    "train.attach_wagon_from_left(7)\n",
    "train.attach_wagon_from_left(1)\n",
    "train.attach_wagon_from_left(4)\n",
    "train.attach_wagon_from_left(13)\n",
    "print(train.detach_wagon_from_right()) # should print 7\n",
    "print(train.detach_wagon_from_left()) # should print 13"
   ]
  },
  {
   "cell_type": "code",
   "execution_count": null,
   "metadata": {},
   "outputs": [],
   "source": []
  }
 ]
}